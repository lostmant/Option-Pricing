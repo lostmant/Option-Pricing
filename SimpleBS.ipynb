{
 "cells": [
  {
   "cell_type": "markdown",
   "id": "ba8dd3a1-8c7e-4af7-862b-79ee24cc5c1e",
   "metadata": {},
   "source": [
    "## THIS NOTEBOOK FOLLOW THIS LINK\n",
    "http://gouthamanbalaraman.com/blog/european-option-binomial-tree-quantlib-python.html"
   ]
  },
  {
   "cell_type": "code",
   "execution_count": 1,
   "id": "9bca493c-11e9-403d-9013-699c789bbf31",
   "metadata": {},
   "outputs": [],
   "source": [
    "import QuantLib as ql # version 1.5\n",
    "import matplotlib.pyplot as plt\n",
    "%matplotlib inline"
   ]
  },
  {
   "cell_type": "markdown",
   "id": "00141238-5059-40af-811e-20623666357c",
   "metadata": {},
   "source": [
    "### Compute the price of a sample European Option "
   ]
  },
  {
   "cell_type": "code",
   "execution_count": 2,
   "id": "dec88426-94a8-4ff0-93ba-669075b7f064",
   "metadata": {},
   "outputs": [],
   "source": [
    "K=200    #spot price\n",
    "St=208   #current stock price\n",
    "r=4      #4% risk free rate\n",
    "t=30     #time to expiry, 30 days \n",
    "v=20     #volatility \n",
    "\n",
    "\n",
    "# option data\n",
    "\n",
    "maturity_date = ql.Date(1, 3, 2022)\n",
    "spot_price = St\n",
    "strike_price = K\n",
    "volatility = v/100\n",
    "dividend_rate = 0\n",
    "\n",
    "\n",
    "option_type = ql.Option.Call\n",
    "\n",
    "# risk_free_rate = 0.001\n",
    "risk_free_rate = r/100\n",
    "\n",
    "day_count = ql.Actual365Fixed()\n",
    "calendar = ql.UnitedStates()\n",
    "\n",
    "calculation_date = ql.Date(30, 1, 2022)\n",
    "ql.Settings.instance().evaluationDate = calculation_date"
   ]
  },
  {
   "cell_type": "code",
   "execution_count": 3,
   "id": "8452844a-3f1d-493d-ba94-953f7d87e842",
   "metadata": {},
   "outputs": [],
   "source": [
    "# construct the European Option\n",
    "payoff = ql.PlainVanillaPayoff(option_type, strike_price)\n",
    "exercise = ql.EuropeanExercise(maturity_date)\n",
    "european_option = ql.VanillaOption(payoff, exercise)"
   ]
  },
  {
   "cell_type": "code",
   "execution_count": 4,
   "id": "6668be16-105d-462a-b924-7841329a6130",
   "metadata": {},
   "outputs": [],
   "source": [
    "spot_handle = ql.QuoteHandle(\n",
    "    ql.SimpleQuote(spot_price)\n",
    ")\n",
    "flat_ts = ql.YieldTermStructureHandle(\n",
    "    ql.FlatForward(calculation_date, risk_free_rate, day_count)\n",
    ")\n",
    "dividend_yield = ql.YieldTermStructureHandle(\n",
    "    ql.FlatForward(calculation_date, dividend_rate, day_count)\n",
    ")\n",
    "flat_vol_ts = ql.BlackVolTermStructureHandle(\n",
    "    ql.BlackConstantVol(calculation_date, calendar, volatility, day_count)\n",
    ")\n",
    "bsm_process = ql.BlackScholesMertonProcess(spot_handle, \n",
    "                                           dividend_yield, \n",
    "                                           flat_ts, \n",
    "                                           flat_vol_ts)"
   ]
  },
  {
   "cell_type": "code",
   "execution_count": 5,
   "id": "281a4b7d-cf9d-43ce-b8a1-fd9641dd4de1",
   "metadata": {},
   "outputs": [
    {
     "name": "stdout",
     "output_type": "stream",
     "text": [
      "The theoretical price is  10.210518559926461\n",
      "The theoretical delta is  0.779359324170194\n",
      "The theoretical gamma is  0.0248682650888989\n",
      "The theoretical vega is  17.68603760229241\n"
     ]
    }
   ],
   "source": [
    "european_option.setPricingEngine(ql.AnalyticEuropeanEngine(bsm_process))\n",
    "bs_price = european_option.NPV()\n",
    "print (\"The theoretical price is \", bs_price)\n",
    "bs_delta = european_option.delta()\n",
    "print (\"The theoretical delta is \", bs_delta)\n",
    "bs_gamma = european_option.gamma()\n",
    "print (\"The theoretical gamma is \", bs_gamma)\n",
    "bs_vega = european_option.vega()\n",
    "print (\"The theoretical vega is \", bs_vega)"
   ]
  },
  {
   "cell_type": "markdown",
   "id": "1ceb7b39-3b71-4a4d-83d6-74d58c18d3e3",
   "metadata": {},
   "source": [
    "### Try to plot graphs with different S"
   ]
  },
  {
   "cell_type": "code",
   "execution_count": 6,
   "id": "fb58656d-bd9d-45a7-856d-eae5e45f8f25",
   "metadata": {},
   "outputs": [],
   "source": [
    "import numpy as np\n",
    "\n",
    "\n",
    "S_min = 100\n",
    "S_max = 300\n",
    "S = np.linspace(S_min, S_max, 100)\n",
    "\n",
    "\n",
    "K=200    #spot price\n",
    "r=4      #4% risk free rate\n",
    "t=30     #time to expiry, 30 days \n",
    "v=20     #volatility \n",
    "\n",
    "\n",
    "maturity_date = ql.Date(1, 3, 2022)\n",
    "strike_price = K\n",
    "volatility = v/100\n",
    "dividend_rate = 0\n",
    "\n",
    "\n",
    "option_type = ql.Option.Put\n",
    "\n",
    "# risk_free_rate = 0.001\n",
    "risk_free_rate = r/100\n",
    "\n",
    "day_count = ql.Actual365Fixed()\n",
    "calendar = ql.UnitedStates()\n",
    "\n",
    "calculation_date = ql.Date(30, 1, 2022)\n",
    "ql.Settings.instance().evaluationDate = calculation_date\n",
    "\n"
   ]
  },
  {
   "cell_type": "code",
   "execution_count": 7,
   "id": "f6239ad1-0d15-4ae9-968d-d3d6d7204532",
   "metadata": {},
   "outputs": [],
   "source": [
    "# construct the European Option\n",
    "# payoff = ql.PlainVanillaPayoff(option_type, strike_price)\n",
    "payoff = ql.CashOrNothingPayoff(option_type, strike_price, 50)\n",
    "\n",
    "exercise = ql.EuropeanExercise(maturity_date)\n",
    "european_option = ql.VanillaOption(payoff, exercise)"
   ]
  },
  {
   "cell_type": "code",
   "execution_count": 8,
   "id": "2625b3b7-285d-4496-8139-d558fc9580c0",
   "metadata": {},
   "outputs": [],
   "source": [
    "option_price = []\n",
    "option_delta = []\n",
    "option_gamma = []\n",
    "option_vega = []\n",
    "\n",
    "# set a dummy quote u here so thta we will change later\n",
    "u = ql.SimpleQuote(0)\n",
    "spot_handle = ql.QuoteHandle(u)\n",
    "flat_ts = ql.YieldTermStructureHandle(ql.FlatForward(calculation_date, risk_free_rate, day_count))\n",
    "dividend_yield = ql.YieldTermStructureHandle(ql.FlatForward(calculation_date, dividend_rate, day_count))\n",
    "flat_vol_ts = ql.BlackVolTermStructureHandle(ql.BlackConstantVol(calculation_date, calendar, volatility, day_count))\n",
    "bsm_process = ql.BlackScholesMertonProcess(spot_handle, \n",
    "                                       dividend_yield, \n",
    "                                       flat_ts, \n",
    "                                       flat_vol_ts)\n",
    "european_option.setPricingEngine(ql.AnalyticEuropeanEngine(bsm_process))\n",
    "\n",
    "\n",
    "for i in S:\n",
    "    u.setValue(i)\n",
    "    option_price.append(european_option.NPV())\n",
    "    option_delta.append(european_option.delta())\n",
    "    option_gamma.append(european_option.gamma())\n",
    "    option_vega.append(european_option.vega())\n"
   ]
  },
  {
   "cell_type": "code",
   "execution_count": 9,
   "id": "190ba865-048e-4a74-8e6a-f118eeef1004",
   "metadata": {},
   "outputs": [
    {
     "data": {
      "image/png": "[encoded data removed]",
      "text/plain": [
       "<Figure size 432x288 with 1 Axes>"
      ]
     },
     "metadata": {
      "needs_background": "light"
     },
     "output_type": "display_data"
    }
   ],
   "source": [
    "plt.plot(S,option_price, color='coral')\n",
    "\n",
    "plt.grid()\n",
    "\n",
    "#plt.xlim(S_min,S_max)\n",
    "#plt.ylim(0,100)\n",
    "\n",
    "plt.title('Option Price vs Stock Price',fontsize=10)\n",
    "\n",
    "plt.xlabel('Stock Price')\n",
    "plt.ylabel('Option Price')\n",
    "\n",
    "plt.show()  "
   ]
  },
  {
   "cell_type": "code",
   "execution_count": 10,
   "id": "706330ec-290e-441c-9157-ac42ab647f25",
   "metadata": {},
   "outputs": [
    {
     "data": {
      "image/png": "[encoded data removed]",
      "text/plain": [
       "<Figure size 432x288 with 1 Axes>"
      ]
     },
     "metadata": {
      "needs_background": "light"
     },
     "output_type": "display_data"
    }
   ],
   "source": [
    "plt.plot(S,option_delta, color='coral')\n",
    "\n",
    "plt.grid()\n",
    "\n",
    "#plt.xlim(S_min,S_max)\n",
    "#plt.ylim(-1,1)\n",
    "\n",
    "plt.title('Option Delta vs Stock Price',fontsize=10)\n",
    "\n",
    "plt.xlabel('Stock Price')\n",
    "plt.ylabel('Delta')\n",
    "\n",
    "plt.show()  "
   ]
  },
  {
   "cell_type": "code",
   "execution_count": 11,
   "id": "ff595107-1ba1-40ff-b70b-fb8d6156bd98",
   "metadata": {},
   "outputs": [
    {
     "data": {
      "image/png": "[encoded data removed]",
      "text/plain": [
       "<Figure size 432x288 with 1 Axes>"
      ]
     },
     "metadata": {
      "needs_background": "light"
     },
     "output_type": "display_data"
    }
   ],
   "source": [
    "plt.plot(S,option_gamma, color='coral')\n",
    "\n",
    "plt.grid()\n",
    "\n",
    "#plt.xlim(S_min,S_max)\n",
    "#plt.ylim(-0.2,0.2)\n",
    "\n",
    "plt.title('Option Gamma vs Stock Price',fontsize=10)\n",
    "\n",
    "plt.xlabel('Stock Price')\n",
    "plt.ylabel('Gamma')\n",
    "\n",
    "plt.show()  "
   ]
  },
  {
   "cell_type": "code",
   "execution_count": 12,
   "id": "7848c2d1-4476-4b88-9d79-c8257780d8f4",
   "metadata": {},
   "outputs": [
    {
     "data": {
      "image/png": "[encoded data removed]",
      "text/plain": [
       "<Figure size 432x288 with 1 Axes>"
      ]
     },
     "metadata": {
      "needs_background": "light"
     },
     "output_type": "display_data"
    }
   ],
   "source": [
    "plt.plot(S,option_vega, color='coral')\n",
    "\n",
    "plt.grid()\n",
    "\n",
    "#plt.xlim(S_min,S_max)\n",
    "#plt.ylim(-50,50)\n",
    "\n",
    "plt.title('Option Vega vs Stock Price',fontsize=10)\n",
    "\n",
    "plt.xlabel('Stock Price')\n",
    "plt.ylabel('Vega')\n",
    "\n",
    "plt.show()  "
   ]
  }
 ],
 "metadata": {
  "kernelspec": {
   "display_name": "Python 3",
   "language": "python",
   "name": "python3"
  },
  "language_info": {
   "codemirror_mode": {
    "name": "ipython",
    "version": 3
   },
   "file_extension": ".py",
   "mimetype": "text/x-python",
   "name": "python",
   "nbconvert_exporter": "python",
   "pygments_lexer": "ipython3",
   "version": "3.8.8"
  }
 },
 "nbformat": 4,
 "nbformat_minor": 5
}
